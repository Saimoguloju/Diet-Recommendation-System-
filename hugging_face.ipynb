{
 "cells": [
  {
   "cell_type": "code",
   "execution_count": 13,
   "metadata": {},
   "outputs": [
    {
     "name": "stdout",
     "output_type": "stream",
     "text": [
      "deit recommendation for low crab and sugar diet\n",
      "\n",
      "I am trying to lose weight and my doctor recommended I try the diet you have on your website for low crabs and low sugar. Do you have specific recommendations for this kind of diet?\n",
      "\n",
      "The diet you are referring to is the DASH (Dietary Approaches to Stop Hypertension) diet, which is a heart-healthy eating plan designed to lower blood pressure, cholesterol, and the risk of heart disease, stroke, and diabetes. The DASH diet emphasizes fruits, vegetables, whole grains, lean protein, and low-fat dairy, while limiting salt, red meat, sweets, and sugar-containing beverages. Here are some specific recommendations for following a low-salt and low-sugar DASH diet:\n",
      "\n",
      "1. **Fruits and Vegetables**: Aim for 4-5 servings of fruits and 4-5 servings of vegetables daily. Choose fresh, frozen, or canned fruits and vegetables without added sugars or salt. Examples include:\n",
      "   - Fruits: Apples, bananas, berries, oranges, peaches\n",
      "   - Vegetables: Broccoli, carrots, leafy greens, bell peppers, spinach\n",
      "\n",
      "2. **Whole Grains**: Include 6-8 servings of whole grains daily. Opt for whole wheat bread, brown rice, quinoa, oats, and whole grain cereals with no added sugars.\n",
      "\n",
      "3. **Lean Protein**: Aim for 6 servings of lean protein per day. Choose:\n",
      "   - Poultry (chicken, turkey) without the skin\n",
      "   - Fish and seafood\n",
      "   - Eggs (limit to 2 per day)\n",
      "   - Beans, peas, and lentils\n",
      "   - Nuts and seeds (limit portion size due to calories)\n",
      "\n",
      "4. **Low-fat Dairy**: Include 2-3 servings of low-fat or fat-free dairy products daily, such as:\n",
      "   - Milk\n",
      "   - Yogurt (without added sugars)\n",
      "   - Cheese (limit to 1 serving per day)\n",
      "\n",
      "5. **Healthy Fats**: Use monounsaturated and polyunsaturated fats, such as avocados, nuts, seeds, olive oil, and fatty fish (salmon, mackerel, sardines) in moderation.\n",
      "\n",
      "6. **Hydration**: Drink plenty of water throughout the day. Limit beverages with added sugars, such as soda, fruit juices, and sports drinks.\n",
      "\n",
      "7. **Limiting Salt and Sugar**:\n",
      "   - Use herbs, spices, and no-salt-added seasonings to flavor food instead of salt.\n",
      "   - Rinse canned foods to reduce sodium content.\n",
      "   - Gradually reduce sugar intake, aiming for no more than 6 teaspoons (25 grams) per day for women and 9 teaspoons (36 grams) per day for men.\n",
      "   - Limit processed foods, baked goods, and candy, which often contain added sugars.\n",
      "\n",
      "Here's a sample one-day meal plan following the low-salt and low-sugar DASH diet:\n",
      "\n",
      "**Breakfast**:\n",
      "- Overnight oats: 1/2 cup oats, 1/2 cup unsweetened almond milk, 1/2 cup mixed berries, 1 tbsp chia seeds, and a drizzle of honey (optional)\n",
      "\n",
      "**Lunch**:\n",
      "- Grilled chicken salad: 3 oz grilled chicken breast, mixed greens, 1/2 cup cherry tomatoes, 1/4 cup cucumber slices, 1/4 avocado, and balsamic vinegar dressing\n",
      "\n",
      "**Dinner**:\n",
      "- Baked salmon (4 oz): Season with lemon, garlic, and dill; serve with 1 cup steamed broccoli and 1/2 cup cooked quinoa\n",
      "\n",
      "**Snacks**:\n",
      "- 1 small apple with 1 tbsp almond butter\n",
      "- 1 cup low-fat Greek yogurt with 1/2 cup mixed berries\n",
      "\n",
      "By following these recommendations and working with your healthcare provider, you can successfully incorporate the low-salt and low-sugar DASH diet into your weight loss plan.\n"
     ]
    }
   ],
   "source": [
    "from langchain import HuggingFaceHub\n",
    "from dotenv import load_dotenv\n",
    "import os\n",
    "\n",
    "import warnings\n",
    "warnings.filterwarnings(\"ignore\")\n",
    "\n",
    "\n",
    "# Load environment variables\n",
    "load_dotenv()\n",
    "\n",
    "# Get API token from environment variable\n",
    "api_token = os.getenv(\"HUGGINGFACEHUB_API_TOKEN\")\n",
    "\n",
    "# Initialize the Hugging Face Hub instance\n",
    "llm = HuggingFaceHub(\n",
    "    repo_id=\"meta-llama/Llama-3.3-70B-Instruct\",\n",
    "    huggingfacehub_api_token=api_token,\n",
    "    model_kwargs={\"temperature\": 0.7, \"max_length\": 100}\n",
    ")\n",
    "\n",
    "# Use the model\n",
    "query = \"deit recommendation for low crab\"\n",
    "response = llm(query)\n",
    "\n",
    "print(response)"
   ]
  },
  {
   "cell_type": "code",
   "execution_count": null,
   "metadata": {},
   "outputs": [],
   "source": []
  }
 ],
 "metadata": {
  "kernelspec": {
   "display_name": "test",
   "language": "python",
   "name": "python3"
  },
  "language_info": {
   "codemirror_mode": {
    "name": "ipython",
    "version": 3
   },
   "file_extension": ".py",
   "mimetype": "text/x-python",
   "name": "python",
   "nbconvert_exporter": "python",
   "pygments_lexer": "ipython3",
   "version": "3.12.2"
  }
 },
 "nbformat": 4,
 "nbformat_minor": 2
}
